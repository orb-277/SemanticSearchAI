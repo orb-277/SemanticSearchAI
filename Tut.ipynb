{
 "cells": [
  {
   "cell_type": "code",
   "execution_count": 14,
   "metadata": {},
   "outputs": [
    {
     "name": "stdout",
     "output_type": "stream",
     "text": [
      "Collecting cohere\n",
      "  Downloading cohere-4.5.1-py3-none-any.whl (33 kB)\n",
      "Requirement already satisfied: pinecone-client in /home/omkar/miniconda3/lib/python3.9/site-packages (2.2.1)\n",
      "Requirement already satisfied: datasets in /home/omkar/miniconda3/lib/python3.9/site-packages (2.12.0)\n",
      "Requirement already satisfied: aiohttp<4.0,>=3.0 in /home/omkar/miniconda3/lib/python3.9/site-packages (from cohere) (3.8.4)\n",
      "Requirement already satisfied: requests<3.0,>=2.0 in /home/omkar/miniconda3/lib/python3.9/site-packages (from cohere) (2.25.1)\n",
      "Collecting backoff<3.0,>=2.0\n",
      "  Downloading backoff-2.2.1-py3-none-any.whl (15 kB)\n",
      "Requirement already satisfied: frozenlist>=1.1.1 in /home/omkar/miniconda3/lib/python3.9/site-packages (from aiohttp<4.0,>=3.0->cohere) (1.3.3)\n",
      "Requirement already satisfied: async-timeout<5.0,>=4.0.0a3 in /home/omkar/miniconda3/lib/python3.9/site-packages (from aiohttp<4.0,>=3.0->cohere) (4.0.2)\n",
      "Requirement already satisfied: aiosignal>=1.1.2 in /home/omkar/miniconda3/lib/python3.9/site-packages (from aiohttp<4.0,>=3.0->cohere) (1.3.1)\n",
      "Requirement already satisfied: multidict<7.0,>=4.5 in /home/omkar/miniconda3/lib/python3.9/site-packages (from aiohttp<4.0,>=3.0->cohere) (6.0.4)\n",
      "Requirement already satisfied: charset-normalizer<4.0,>=2.0 in /home/omkar/.local/lib/python3.9/site-packages (from aiohttp<4.0,>=3.0->cohere) (2.0.12)\n",
      "Requirement already satisfied: yarl<2.0,>=1.0 in /home/omkar/miniconda3/lib/python3.9/site-packages (from aiohttp<4.0,>=3.0->cohere) (1.8.2)\n",
      "Requirement already satisfied: attrs>=17.3.0 in /home/omkar/miniconda3/lib/python3.9/site-packages (from aiohttp<4.0,>=3.0->cohere) (21.2.0)\n",
      "Requirement already satisfied: idna<3,>=2.5 in /home/omkar/miniconda3/lib/python3.9/site-packages (from requests<3.0,>=2.0->cohere) (2.10)\n",
      "Requirement already satisfied: urllib3<1.27,>=1.21.1 in /home/omkar/miniconda3/lib/python3.9/site-packages (from requests<3.0,>=2.0->cohere) (1.26.6)\n",
      "Requirement already satisfied: certifi>=2017.4.17 in /home/omkar/.local/lib/python3.9/site-packages (from requests<3.0,>=2.0->cohere) (2022.5.18.1)\n",
      "Requirement already satisfied: chardet<5,>=3.0.2 in /home/omkar/miniconda3/lib/python3.9/site-packages (from requests<3.0,>=2.0->cohere) (4.0.0)\n",
      "Requirement already satisfied: loguru>=0.5.0 in /home/omkar/miniconda3/lib/python3.9/site-packages (from pinecone-client) (0.7.0)\n",
      "Requirement already satisfied: dnspython>=2.0.0 in /home/omkar/miniconda3/lib/python3.9/site-packages (from pinecone-client) (2.3.0)\n",
      "Requirement already satisfied: python-dateutil>=2.5.3 in /home/omkar/miniconda3/lib/python3.9/site-packages (from pinecone-client) (2.8.2)\n",
      "Requirement already satisfied: tqdm>=4.64.1 in /home/omkar/miniconda3/lib/python3.9/site-packages (from pinecone-client) (4.65.0)\n",
      "Requirement already satisfied: pyyaml>=5.4 in /home/omkar/miniconda3/lib/python3.9/site-packages (from pinecone-client) (6.0)\n",
      "Requirement already satisfied: numpy in /home/omkar/miniconda3/lib/python3.9/site-packages (from pinecone-client) (1.23.4)\n",
      "Requirement already satisfied: typing-extensions>=3.7.4 in /home/omkar/miniconda3/lib/python3.9/site-packages (from pinecone-client) (4.4.0)\n",
      "Requirement already satisfied: six>=1.5 in /home/omkar/.local/lib/python3.9/site-packages (from python-dateutil>=2.5.3->pinecone-client) (1.16.0)\n",
      "Requirement already satisfied: dill<0.3.7,>=0.3.0 in /home/omkar/miniconda3/lib/python3.9/site-packages (from datasets) (0.3.6)\n",
      "Requirement already satisfied: huggingface-hub<1.0.0,>=0.11.0 in /home/omkar/miniconda3/lib/python3.9/site-packages (from datasets) (0.14.1)\n",
      "Requirement already satisfied: pandas in /home/omkar/miniconda3/lib/python3.9/site-packages (from datasets) (2.0.1)\n",
      "Requirement already satisfied: packaging in /home/omkar/miniconda3/lib/python3.9/site-packages (from datasets) (23.1)\n",
      "Requirement already satisfied: fsspec[http]>=2021.11.1 in /home/omkar/miniconda3/lib/python3.9/site-packages (from datasets) (2023.5.0)\n",
      "Requirement already satisfied: responses<0.19 in /home/omkar/miniconda3/lib/python3.9/site-packages (from datasets) (0.18.0)\n",
      "Requirement already satisfied: xxhash in /home/omkar/miniconda3/lib/python3.9/site-packages (from datasets) (3.2.0)\n",
      "Requirement already satisfied: multiprocess in /home/omkar/miniconda3/lib/python3.9/site-packages (from datasets) (0.70.14)\n",
      "Requirement already satisfied: pyarrow>=8.0.0 in /home/omkar/miniconda3/lib/python3.9/site-packages (from datasets) (12.0.0)\n",
      "Requirement already satisfied: filelock in /home/omkar/.local/lib/python3.9/site-packages (from huggingface-hub<1.0.0,>=0.11.0->datasets) (3.7.1)\n",
      "Requirement already satisfied: tzdata>=2022.1 in /home/omkar/miniconda3/lib/python3.9/site-packages (from pandas->datasets) (2023.3)\n",
      "Requirement already satisfied: pytz>=2020.1 in /home/omkar/.local/lib/python3.9/site-packages (from pandas->datasets) (2021.1)\n",
      "Installing collected packages: backoff, cohere\n",
      "Successfully installed backoff-2.2.1 cohere-4.5.1\n"
     ]
    }
   ],
   "source": [
    "!pip install -U cohere pinecone-client datasets"
   ]
  },
  {
   "cell_type": "code",
   "execution_count": 15,
   "metadata": {},
   "outputs": [],
   "source": [
    "key=\"\""
   ]
  },
  {
   "cell_type": "code",
   "execution_count": 16,
   "metadata": {},
   "outputs": [
    {
     "name": "stdout",
     "output_type": "stream",
     "text": [
      "Requirement already satisfied: cohere in /home/omkar/miniconda3/lib/python3.9/site-packages (4.5.1)\n",
      "Requirement already satisfied: requests<3.0,>=2.0 in /home/omkar/miniconda3/lib/python3.9/site-packages (from cohere) (2.25.1)\n",
      "Requirement already satisfied: aiohttp<4.0,>=3.0 in /home/omkar/miniconda3/lib/python3.9/site-packages (from cohere) (3.8.4)\n",
      "Requirement already satisfied: backoff<3.0,>=2.0 in /home/omkar/miniconda3/lib/python3.9/site-packages (from cohere) (2.2.1)\n",
      "Requirement already satisfied: multidict<7.0,>=4.5 in /home/omkar/miniconda3/lib/python3.9/site-packages (from aiohttp<4.0,>=3.0->cohere) (6.0.4)\n",
      "Requirement already satisfied: async-timeout<5.0,>=4.0.0a3 in /home/omkar/miniconda3/lib/python3.9/site-packages (from aiohttp<4.0,>=3.0->cohere) (4.0.2)\n",
      "Requirement already satisfied: aiosignal>=1.1.2 in /home/omkar/miniconda3/lib/python3.9/site-packages (from aiohttp<4.0,>=3.0->cohere) (1.3.1)\n",
      "Requirement already satisfied: frozenlist>=1.1.1 in /home/omkar/miniconda3/lib/python3.9/site-packages (from aiohttp<4.0,>=3.0->cohere) (1.3.3)\n",
      "Requirement already satisfied: charset-normalizer<4.0,>=2.0 in /home/omkar/.local/lib/python3.9/site-packages (from aiohttp<4.0,>=3.0->cohere) (2.0.12)\n",
      "Requirement already satisfied: attrs>=17.3.0 in /home/omkar/miniconda3/lib/python3.9/site-packages (from aiohttp<4.0,>=3.0->cohere) (21.2.0)\n",
      "Requirement already satisfied: yarl<2.0,>=1.0 in /home/omkar/miniconda3/lib/python3.9/site-packages (from aiohttp<4.0,>=3.0->cohere) (1.8.2)\n",
      "Requirement already satisfied: chardet<5,>=3.0.2 in /home/omkar/miniconda3/lib/python3.9/site-packages (from requests<3.0,>=2.0->cohere) (4.0.0)\n",
      "Requirement already satisfied: urllib3<1.27,>=1.21.1 in /home/omkar/miniconda3/lib/python3.9/site-packages (from requests<3.0,>=2.0->cohere) (1.26.6)\n",
      "Requirement already satisfied: idna<3,>=2.5 in /home/omkar/miniconda3/lib/python3.9/site-packages (from requests<3.0,>=2.0->cohere) (2.10)\n",
      "Requirement already satisfied: certifi>=2017.4.17 in /home/omkar/.local/lib/python3.9/site-packages (from requests<3.0,>=2.0->cohere) (2022.5.18.1)\n",
      "Note: you may need to restart the kernel to use updated packages.\n"
     ]
    }
   ],
   "source": [
    "pip install cohere"
   ]
  },
  {
   "cell_type": "code",
   "execution_count": 17,
   "metadata": {},
   "outputs": [],
   "source": [
    "import cohere\n",
    "co = cohere.Client(\"E5rfnQuRu97uHhBQjygny06sOnYQgdK0XxlvGHbq\")"
   ]
  },
  {
   "cell_type": "code",
   "execution_count": 18,
   "metadata": {},
   "outputs": [
    {
     "data": {
      "application/vnd.jupyter.widget-view+json": {
       "model_id": "f306f3e1ad16460ea8ee4d8687cafc45",
       "version_major": 2,
       "version_minor": 0
      },
      "text/plain": [
       "Downloading builder script:   0%|          | 0.00/5.09k [00:00<?, ?B/s]"
      ]
     },
     "metadata": {},
     "output_type": "display_data"
    },
    {
     "data": {
      "application/vnd.jupyter.widget-view+json": {
       "model_id": "b10dafb3aeeb4389b57a90271e44674b",
       "version_major": 2,
       "version_minor": 0
      },
      "text/plain": [
       "Downloading metadata:   0%|          | 0.00/3.34k [00:00<?, ?B/s]"
      ]
     },
     "metadata": {},
     "output_type": "display_data"
    },
    {
     "data": {
      "application/vnd.jupyter.widget-view+json": {
       "model_id": "84759555f4484330b478713db594f4a8",
       "version_major": 2,
       "version_minor": 0
      },
      "text/plain": [
       "Downloading readme:   0%|          | 0.00/10.6k [00:00<?, ?B/s]"
      ]
     },
     "metadata": {},
     "output_type": "display_data"
    },
    {
     "name": "stdout",
     "output_type": "stream",
     "text": [
      "Downloading and preparing dataset trec/default to /home/omkar/.cache/huggingface/datasets/trec/default/2.0.0/f2469cab1b5fceec7249fda55360dfdbd92a7a5b545e91ea0f78ad108ffac1c2...\n"
     ]
    },
    {
     "data": {
      "application/vnd.jupyter.widget-view+json": {
       "model_id": "3a4cf8f8b7ce4273b5a25eb6f89323f4",
       "version_major": 2,
       "version_minor": 0
      },
      "text/plain": [
       "Downloading data files:   0%|          | 0/2 [00:00<?, ?it/s]"
      ]
     },
     "metadata": {},
     "output_type": "display_data"
    },
    {
     "data": {
      "application/vnd.jupyter.widget-view+json": {
       "model_id": "705e8805b49e4be59ef2b7da3a5472c2",
       "version_major": 2,
       "version_minor": 0
      },
      "text/plain": [
       "Downloading data:   0%|          | 0.00/336k [00:00<?, ?B/s]"
      ]
     },
     "metadata": {},
     "output_type": "display_data"
    },
    {
     "data": {
      "application/vnd.jupyter.widget-view+json": {
       "model_id": "d0e8bae5864f45a09ce982f5059611b7",
       "version_major": 2,
       "version_minor": 0
      },
      "text/plain": [
       "Downloading data:   0%|          | 0.00/23.4k [00:00<?, ?B/s]"
      ]
     },
     "metadata": {},
     "output_type": "display_data"
    },
    {
     "data": {
      "application/vnd.jupyter.widget-view+json": {
       "model_id": "e703c8d381da4810b8d4a8150f5cf618",
       "version_major": 2,
       "version_minor": 0
      },
      "text/plain": [
       "Generating train split:   0%|          | 0/5452 [00:00<?, ? examples/s]"
      ]
     },
     "metadata": {},
     "output_type": "display_data"
    },
    {
     "data": {
      "application/vnd.jupyter.widget-view+json": {
       "model_id": "f1b6850a4ce14400b9b805ca627ef2f6",
       "version_major": 2,
       "version_minor": 0
      },
      "text/plain": [
       "Generating test split:   0%|          | 0/500 [00:00<?, ? examples/s]"
      ]
     },
     "metadata": {},
     "output_type": "display_data"
    },
    {
     "name": "stdout",
     "output_type": "stream",
     "text": [
      "Dataset trec downloaded and prepared to /home/omkar/.cache/huggingface/datasets/trec/default/2.0.0/f2469cab1b5fceec7249fda55360dfdbd92a7a5b545e91ea0f78ad108ffac1c2. Subsequent calls will reuse this data.\n"
     ]
    }
   ],
   "source": [
    "from datasets import load_dataset\n",
    "\n",
    "# load the first 1K rows of the TREC dataset\n",
    "trec = load_dataset('trec', split='train[:1000]')"
   ]
  },
  {
   "cell_type": "code",
   "execution_count": 19,
   "metadata": {},
   "outputs": [],
   "source": [
    "embeds = co.embed(\n",
    "    texts=trec['text'],\n",
    "    model='small',\n",
    "    truncate='LEFT'\n",
    ").embeddings\n"
   ]
  },
  {
   "cell_type": "code",
   "execution_count": 21,
   "metadata": {},
   "outputs": [
    {
     "name": "stdout",
     "output_type": "stream",
     "text": [
      "Requirement already satisfied: pinecone-client in /home/omkar/miniconda3/lib/python3.9/site-packages (2.2.1)\n",
      "Requirement already satisfied: tqdm>=4.64.1 in /home/omkar/miniconda3/lib/python3.9/site-packages (from pinecone-client) (4.65.0)\n",
      "Requirement already satisfied: loguru>=0.5.0 in /home/omkar/miniconda3/lib/python3.9/site-packages (from pinecone-client) (0.7.0)\n",
      "Requirement already satisfied: requests>=2.19.0 in /home/omkar/miniconda3/lib/python3.9/site-packages (from pinecone-client) (2.25.1)\n",
      "Requirement already satisfied: typing-extensions>=3.7.4 in /home/omkar/miniconda3/lib/python3.9/site-packages (from pinecone-client) (4.4.0)\n",
      "Requirement already satisfied: urllib3>=1.21.1 in /home/omkar/miniconda3/lib/python3.9/site-packages (from pinecone-client) (1.26.6)\n",
      "Requirement already satisfied: numpy in /home/omkar/miniconda3/lib/python3.9/site-packages (from pinecone-client) (1.23.4)\n",
      "Requirement already satisfied: pyyaml>=5.4 in /home/omkar/miniconda3/lib/python3.9/site-packages (from pinecone-client) (6.0)\n",
      "Requirement already satisfied: python-dateutil>=2.5.3 in /home/omkar/miniconda3/lib/python3.9/site-packages (from pinecone-client) (2.8.2)\n",
      "Requirement already satisfied: dnspython>=2.0.0 in /home/omkar/miniconda3/lib/python3.9/site-packages (from pinecone-client) (2.3.0)\n",
      "Requirement already satisfied: six>=1.5 in /home/omkar/.local/lib/python3.9/site-packages (from python-dateutil>=2.5.3->pinecone-client) (1.16.0)\n",
      "Requirement already satisfied: certifi>=2017.4.17 in /home/omkar/.local/lib/python3.9/site-packages (from requests>=2.19.0->pinecone-client) (2022.5.18.1)\n",
      "Requirement already satisfied: chardet<5,>=3.0.2 in /home/omkar/miniconda3/lib/python3.9/site-packages (from requests>=2.19.0->pinecone-client) (4.0.0)\n",
      "Requirement already satisfied: idna<3,>=2.5 in /home/omkar/miniconda3/lib/python3.9/site-packages (from requests>=2.19.0->pinecone-client) (2.10)\n"
     ]
    }
   ],
   "source": [
    "!pip install pinecone-client"
   ]
  },
  {
   "cell_type": "code",
   "execution_count": 25,
   "metadata": {},
   "outputs": [],
   "source": [
    "import pinecone\n",
    "pinecone.init(api_key=\"cb882460-1332-4502-8919-1c8573f69797\",environment='asia-southeast1-gcp-free')\n",
    "index_name = 'cohere-pinecone-trec'\n",
    "\n",
    "# if the index does not exist, we create it\n",
    "if index_name not in pinecone.list_indexes():\n",
    "    pinecone.create_index(\n",
    "        index_name,\n",
    "        dimension=1024,\n",
    "        metric='cosine'\n",
    "    )\n",
    "\n",
    "# connect to index\n",
    "index = pinecone.Index(index_name)"
   ]
  },
  {
   "cell_type": "code",
   "execution_count": 26,
   "metadata": {},
   "outputs": [
    {
     "name": "stdout",
     "output_type": "stream",
     "text": [
      "{'dimension': 1024,\n",
      " 'index_fullness': 0.0,\n",
      " 'namespaces': {'': {'vector_count': 1000}},\n",
      " 'total_vector_count': 1000}\n"
     ]
    }
   ],
   "source": [
    "batch_size = 256\n",
    "\n",
    "ids = [str(i) for i in range(1000)]\n",
    "# create list of metadata dictionaries\n",
    "meta = [{'text': text} for text in trec['text']]\n",
    "\n",
    "# create list of (id, vector, metadata) tuples to be upserted\n",
    "to_upsert = list(zip(ids, embeds, meta))\n",
    "\n",
    "for i in range(0, 1000, batch_size):\n",
    "    i_end = min(i+batch_size, 1000)\n",
    "    index.upsert(vectors=to_upsert[i:i_end])\n",
    "\n",
    "# let's view the index statistics\n",
    "print(index.describe_index_stats())\n"
   ]
  },
  {
   "cell_type": "code",
   "execution_count": 32,
   "metadata": {},
   "outputs": [
    {
     "name": "stdout",
     "output_type": "stream",
     "text": [
      "(1, 1024)\n"
     ]
    }
   ],
   "source": [
    "import numpy as np\n",
    "query = \"Irish Tragedies\"\n",
    "\n",
    "# create the query embedding\n",
    "xq = co.embed(\n",
    "    texts=[query],\n",
    "    model='small',\n",
    "    truncate='LEFT'\n",
    ").embeddings\n",
    "\n",
    "print(np.array(xq).shape)"
   ]
  },
  {
   "cell_type": "code",
   "execution_count": 33,
   "metadata": {},
   "outputs": [
    {
     "name": "stdout",
     "output_type": "stream",
     "text": [
      "0.52: What holidays are celebrated in Ireland ?\n",
      "0.45: What crop failure caused the Irish Famine ?\n",
      "0.42: What was the name of the 187s Irish terrorist group in Pennsylvania mining areas ?\n",
      "0.40: What does NN O `` mean when used as a prefix in Irish surnames ?\n",
      "0.37: In what city is the headquarters of Sinn Fein ?\n"
     ]
    }
   ],
   "source": [
    "res = index.query(xq, top_k=5, include_metadata=True)\n",
    "for match in res['matches']:\n",
    "    print(f\"{match['score']:.2f}: {match['metadata']['text']}\")"
   ]
  },
  {
   "cell_type": "code",
   "execution_count": null,
   "metadata": {},
   "outputs": [],
   "source": []
  }
 ],
 "metadata": {
  "kernelspec": {
   "display_name": "Python 3.9.5 ('base')",
   "language": "python",
   "name": "python3"
  },
  "language_info": {
   "codemirror_mode": {
    "name": "ipython",
    "version": 3
   },
   "file_extension": ".py",
   "mimetype": "text/x-python",
   "name": "python",
   "nbconvert_exporter": "python",
   "pygments_lexer": "ipython3",
   "version": "3.9.5"
  },
  "orig_nbformat": 4,
  "vscode": {
   "interpreter": {
    "hash": "a02030852d53500bf5ea4fc2f68ec228bb9ca19a889a6b371c3dabf40f9f2484"
   }
  }
 },
 "nbformat": 4,
 "nbformat_minor": 2
}
